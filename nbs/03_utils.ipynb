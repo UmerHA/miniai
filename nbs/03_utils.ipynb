{
 "cells": [
  {
   "cell_type": "markdown",
   "id": "c029a68b-2f5d-4683-94cc-5b639185ce99",
   "metadata": {},
   "source": [
    "### Utilities\n",
    "\n",
    "General purpose utilities including setting device, moving data and models to devices, setting seed"
   ]
  },
  {
   "cell_type": "code",
   "execution_count": null,
   "id": "d1071fab-d0b0-478a-a4bc-3a1efab13592",
   "metadata": {},
   "outputs": [],
   "source": [
    "#| default_exp utils"
   ]
  },
  {
   "cell_type": "code",
   "execution_count": null,
   "id": "9c088dc0-3672-4ea1-b69f-db9ca65ba107",
   "metadata": {},
   "outputs": [],
   "source": [
    "#|export\n",
    "import random\n",
    "import numpy as np\n",
    "import torch\n",
    "from torch import nn\n",
    "\n",
    "from torch.utils.data import default_collate\n",
    "from typing import Mapping\n",
    "import fastcore.test as fct"
   ]
  },
  {
   "cell_type": "code",
   "execution_count": null,
   "id": "6eb200b9-a341-44a0-a35d-9c0651ecdb72",
   "metadata": {},
   "outputs": [],
   "source": [
    "#|export\n",
    "def_device = 'mps' if torch.backends.mps.is_available() else 'cuda' if torch.cuda.is_available() else 'cpu'\n",
    "\n",
    "def to_device(x, device=def_device):\n",
    "    if isinstance(x, torch.Tensor): return x.to(device)\n",
    "    if isinstance(x, Mapping): return {k:v.to(device) for k,v in x.items()}\n",
    "    return type(x)(to_device(o, device) for o in x)\n",
    "\n",
    "def collate_device(b): return to_device(default_collate(b))"
   ]
  },
  {
   "cell_type": "code",
   "execution_count": null,
   "id": "61d3fdc8-31ab-46a7-9f41-66774c0517b2",
   "metadata": {},
   "outputs": [
    {
     "data": {
      "text/plain": [
       "'mps'"
      ]
     },
     "execution_count": null,
     "metadata": {},
     "output_type": "execute_result"
    }
   ],
   "source": [
    "#| hide\n",
    "def_device"
   ]
  },
  {
   "cell_type": "code",
   "execution_count": null,
   "id": "07372f4b-a3ad-442a-b1c0-a57e8fa85cae",
   "metadata": {},
   "outputs": [],
   "source": [
    "#|export\n",
    "def set_seed(seed: int, deterministic:bool=False):\n",
    "    \"\"\" Sets the seeds for torch, random and numpy.  If the deterministic flag is set torch will \n",
    "    attempt to use deterministic algorithms, if these are not available an error will be raised\n",
    "    \"\"\"\n",
    "    torch.use_deterministic_algorithms(deterministic)\n",
    "    torch.manual_seed(seed)\n",
    "    random.seed(seed)\n",
    "    np.random.seed(seed)"
   ]
  },
  {
   "cell_type": "markdown",
   "id": "ae9b7135-46f1-4a4e-8bab-a128ec7b100c",
   "metadata": {},
   "source": [
    "## Test random number generation\n",
    "Generate random number after seed, reapply seed, regenerate numbers and check equal"
   ]
  },
  {
   "cell_type": "code",
   "execution_count": null,
   "id": "d7935e1e-96cb-4601-be9c-a8839592c061",
   "metadata": {},
   "outputs": [
    {
     "data": {
      "text/plain": [
       "True"
      ]
     },
     "execution_count": null,
     "metadata": {},
     "output_type": "execute_result"
    }
   ],
   "source": [
    "set_seed(42)\n",
    "rand_num_1 = random.randint(1, 1000)\n",
    "torch_num_1 = torch.randint(1, 1000, (1,))\n",
    "np_num_1 = np.random.randint(0, 1000, (1,))\n",
    "set_seed(42)\n",
    "rand_num_2 = random.randint(1, 1000)\n",
    "torch_num_2 = torch.randint(1, 1000, (1,))\n",
    "np_num_2 = np.random.randint(0, 1000, (1,))\n",
    "\n",
    "fct.equals(rand_num_1, rand_num_2)\n",
    "fct.equals(torch_num_1, torch_num_1)\n",
    "fct.equals(np_num_1, np_num_2)"
   ]
  },
  {
   "cell_type": "code",
   "execution_count": null,
   "id": "dade4244-8e40-4b14-bdef-03eec27b31ca",
   "metadata": {},
   "outputs": [],
   "source": []
  },
  {
   "cell_type": "code",
   "execution_count": null,
   "id": "20059598-abf9-4b4b-bc99-0eb64eeb2b7e",
   "metadata": {},
   "outputs": [],
   "source": [
    "#| hide\n",
    "import nbdev; nbdev.nbdev_export()"
   ]
  }
 ],
 "metadata": {
  "kernelspec": {
   "display_name": "python3",
   "language": "python",
   "name": "python3"
  }
 },
 "nbformat": 4,
 "nbformat_minor": 5
}
