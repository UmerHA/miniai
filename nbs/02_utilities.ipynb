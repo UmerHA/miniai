{
 "cells": [
  {
   "cell_type": "markdown",
   "id": "772698e0-fab9-44fa-94b1-f9533906161a",
   "metadata": {},
   "source": [
    "# Utilities\n",
    "\n",
    "Contains utility functions related to plotting"
   ]
  },
  {
   "cell_type": "code",
   "execution_count": null,
   "id": "1c0e1bde-6afb-415e-bb0d-1f7f0323ad05",
   "metadata": {},
   "outputs": [],
   "source": [
    "#| default_exp utils"
   ]
  },
  {
   "cell_type": "code",
   "execution_count": null,
   "id": "81ccfadb-b32f-4da8-bb53-e38d4ce836b0",
   "metadata": {},
   "outputs": [],
   "source": [
    "#| export\n",
    "from __future__ import annotations\n",
    "import pickle,gzip,math,os,time,shutil,torch,matplotlib as mpl,numpy as np,matplotlib.pyplot as plt\n",
    "from pathlib import Path\n",
    "from operator import itemgetter\n",
    "from itertools import zip_longest\n",
    "import fastcore.all as fc\n",
    "\n",
    "from torch import tensor,nn,optim\n",
    "from torch.utils.data import DataLoader,default_collate\n",
    "import torch.nn.functional as F\n",
    "\n",
    "from datasets import load_dataset,load_dataset_builder\n",
    "from matplotlib.pyplot import axes as ax"
   ]
  },
  {
   "cell_type": "markdown",
   "id": "80a94438-df90-4c82-9c6c-a6cb887c946c",
   "metadata": {},
   "source": [
    "### Plotting"
   ]
  },
  {
   "cell_type": "code",
   "execution_count": null,
   "id": "116b8bb1-377a-4bd6-949e-5873afc25252",
   "metadata": {},
   "outputs": [],
   "source": [
    "#|export\n",
    "@fc.delegates(plt.Axes.imshow)\n",
    "def show_image(img, ax=None, title=None, noframe=True, figsize=None, **kwargs):\n",
    "    # prepare images.  Check if pytorch tensor by using attributes\n",
    "    if fc.hasattrs(img, ('cpu', 'permute', 'detach')):\n",
    "        img = img.detach().cpu()\n",
    "        if len(img.shape)==3 and img.shape[0]<8:\n",
    "            img = img.permute(1,2,0)\n",
    "        elif not isinstance(img, np.ndarray):\n",
    "            img = np.asarray(img)\n",
    "    # If only one channel remove the dimension\n",
    "    if img.shape[-1] == 1:\n",
    "        img = img[...,0]\n",
    "    # if axes do not exist then create them\n",
    "    if ax is None: _,ax = plt.subplots(figsize=figsize)\n",
    "    # plot the array\n",
    "    ax.imshow(img, **kwargs)\n",
    "    # Add a title\n",
    "    if title is not None: ax.set_title(title)\n",
    "    # turn off tick marks\n",
    "    ax.set_xticks([])\n",
    "    ax.set_yticks([])\n",
    "    # Finally set whether or not to show a frame\n",
    "    if noframe:\n",
    "        ax.axis('off')\n",
    "    return ax"
   ]
  }
 ],
 "metadata": {
  "kernelspec": {
   "display_name": "python3",
   "language": "python",
   "name": "python3"
  }
 },
 "nbformat": 4,
 "nbformat_minor": 5
}
