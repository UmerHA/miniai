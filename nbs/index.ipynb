{
 "cells": [
  {
   "cell_type": "code",
   "execution_count": null,
   "metadata": {},
   "outputs": [],
   "source": [
    "#| hide\n",
    "from miniai.core import *"
   ]
  },
  {
   "cell_type": "markdown",
   "metadata": {},
   "source": [
    "# miniai\n",
    "\n",
    "> Version of the fastai miniai repository more targetted at creating a general purpose framework"
   ]
  },
  {
   "cell_type": "markdown",
   "metadata": {},
   "source": [
    "This repository is built from the miniai repository create by Jeremy Howard, Jonathan Whitaker and Tanishq Abraham.  An overview of the course can be found [here](https://course.fast.ai/Lessons/part2.html)\n",
    "\n",
    "The course github repository is [here](https://github.com/fastai/course22p2)\n",
    "\n",
    "The original miniai library is great but is tied to the course.  We have found it a very powerful and light framework that is easy to use, understand and build upon, which is the purpose of this repository.  In particular it is easy to add write and add new callbacks that enhance the capability of the framework.  This repository in intended to organise the framework is a more functional manner and to provide a home for additional callbacks and other additions.  More details will be added as the content is developed"
   ]
  },
  {
   "cell_type": "markdown",
   "metadata": {},
   "source": [
    "## Install\n",
    "\n",
    "Note that this is not setup on pip as yet.  To install clone the libary and do a pip install -e '.[dev]'"
   ]
  },
  {
   "cell_type": "code",
   "execution_count": null,
   "metadata": {},
   "outputs": [],
   "source": []
  },
  {
   "cell_type": "markdown",
   "metadata": {},
   "source": [
    "## How to use"
   ]
  },
  {
   "cell_type": "markdown",
   "metadata": {},
   "source": [
    "Fill me in please! Don't forget code examples:"
   ]
  },
  {
   "cell_type": "code",
   "execution_count": null,
   "metadata": {},
   "outputs": [
    {
     "data": {
      "text/plain": [
       "2"
      ]
     },
     "execution_count": null,
     "metadata": {},
     "output_type": "execute_result"
    }
   ],
   "source": [
    "1+1"
   ]
  },
  {
   "cell_type": "code",
   "execution_count": null,
   "metadata": {},
   "outputs": [],
   "source": []
  }
 ],
 "metadata": {
  "kernelspec": {
   "display_name": "python3",
   "language": "python",
   "name": "python3"
  }
 },
 "nbformat": 4,
 "nbformat_minor": 4
}
