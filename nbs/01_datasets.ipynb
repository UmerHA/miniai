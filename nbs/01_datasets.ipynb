{
 "cells": [
  {
   "cell_type": "markdown",
   "id": "27f884a4-823e-4a63-917c-999356822329",
   "metadata": {},
   "source": [
    "# Datasets\n",
    "\n",
    "Contains functions and classes related to datasets and dataloaders"
   ]
  },
  {
   "cell_type": "code",
   "execution_count": null,
   "id": "af75f6e7-e27e-4bd0-b432-850ba0a5536c",
   "metadata": {},
   "outputs": [],
   "source": [
    "#| default_exp datasets"
   ]
  },
  {
   "cell_type": "code",
   "execution_count": null,
   "id": "cfba0dbd-1625-4a07-8e35-d99e5d9ea489",
   "metadata": {},
   "outputs": [],
   "source": [
    "#|export\n",
    "from __future__ import annotations\n",
    "import math,numpy as np,matplotlib.pyplot as plt\n",
    "from operator import itemgetter\n",
    "from itertools import zip_longest\n",
    "from torch.utils.data import DataLoader, default_collate, Dataset\n",
    "import fastcore.all as fc"
   ]
  },
  {
   "cell_type": "code",
   "execution_count": null,
   "id": "4f5de4e4-10b7-4d4a-86c5-4fca853fcc77",
   "metadata": {},
   "outputs": [
    {
     "name": "stderr",
     "output_type": "stream",
     "text": [
      "/Users/johnrichmond/miniconda/envs/miniai/lib/python3.11/site-packages/tqdm/auto.py:21: TqdmWarning: IProgress not found. Please update jupyter and ipywidgets. See https://ipywidgets.readthedocs.io/en/stable/user_install.html\n",
      "  from .autonotebook import tqdm as notebook_tqdm\n"
     ]
    }
   ],
   "source": [
    "import logging,pickle,gzip,os,time,shutil,torch,matplotlib as mpl\n",
    "from pathlib import Path\n",
    "import torch\n",
    "from torch import tensor,nn,optim\n",
    "import torch.nn.functional as F\n",
    "from datasets import load_dataset,load_dataset_builder\n",
    "\n",
    "import torchvision.transforms.functional as TF\n",
    "from fastcore.test import test_close, equals\n",
    "from nbdev import show_doc"
   ]
  },
  {
   "cell_type": "code",
   "execution_count": null,
   "id": "89c524ef-0892-432f-9340-8915c25178fc",
   "metadata": {},
   "outputs": [],
   "source": [
    "torch.set_printoptions(precision=2, linewidth=140, sci_mode=False)\n",
    "torch.manual_seed(1)\n",
    "mpl.rcParams['image.cmap'] = 'gray'"
   ]
  },
  {
   "cell_type": "code",
   "execution_count": null,
   "id": "9ac04221-ddc4-4dbb-aa7b-3d0f6217edb0",
   "metadata": {},
   "outputs": [],
   "source": [
    "logging.disable(logging.WARNING)"
   ]
  },
  {
   "cell_type": "markdown",
   "id": "384a5873-f75f-47d7-836c-3b4accfa2458",
   "metadata": {},
   "source": [
    "The dataset management will be developed and demonstrated using databases from Huggingface, but can be readily adapted to work with other datasets.  \n",
    "\n",
    "## Hugging Face Datasets\n",
    "\n",
    "Note that a list of the available datasets can be found on the Hugging Face hub: \n",
    "\n",
    "[Hugging Face Hub](https://huggingface.co/datasets)\n",
    "\n",
    "Hugging Face datasets have a dictionary based structure\n"
   ]
  },
  {
   "cell_type": "code",
   "execution_count": null,
   "id": "6132300a-ca38-4d59-9284-b68848f4e8d8",
   "metadata": {},
   "outputs": [
    {
     "name": "stdout",
     "output_type": "stream",
     "text": [
      "Fashion-MNIST is a dataset of Zalando's article images—consisting of a training set of\n",
      "60,000 examples and a test set of 10,000 examples. Each example is a 28x28 grayscale image,\n",
      "associated with a label from 10 classes. We intend Fashion-MNIST to serve as a direct drop-in\n",
      "replacement for the original MNIST dataset for benchmarking machine learning algorithms.\n",
      "It shares the same image size and structure of training and testing splits.\n",
      "\n"
     ]
    }
   ],
   "source": [
    "name = \"fashion_mnist\"\n",
    "ds_builder = load_dataset_builder(name)\n",
    "print(ds_builder.info.description)"
   ]
  },
  {
   "cell_type": "markdown",
   "id": "26b012a4-4c3f-464b-a844-21fdb4bbd6f1",
   "metadata": {},
   "source": [
    "The dataset builder has a number of useful properties that can help better understand a dataset.  These are mostly sub properties the info attribute and include:\n",
    "- features\n",
    "- splits\n",
    "- homepage\n",
    "\n",
    "And lots of other useful things.\n",
    "\n",
    "Dataset builder allows obtaining details about he dataset without actually downloading it.  Accessing the dataset then uses the load_dataet mehod"
   ]
  },
  {
   "cell_type": "code",
   "execution_count": null,
   "id": "6adf1c2b-dcfa-492f-85dc-790d4d1a6687",
   "metadata": {},
   "outputs": [
    {
     "data": {
      "text/plain": [
       "{'image': Image(decode=True, id=None),\n",
       " 'label': ClassLabel(names=['T - shirt / top', 'Trouser', 'Pullover', 'Dress', 'Coat', 'Sandal', 'Shirt', 'Sneaker', 'Bag', 'Ankle boot'], id=None)}"
      ]
     },
     "execution_count": null,
     "metadata": {},
     "output_type": "execute_result"
    }
   ],
   "source": [
    "ds_builder.info.features"
   ]
  },
  {
   "cell_type": "code",
   "execution_count": null,
   "id": "2e7ab0a2-44cd-42a6-9550-0bc2a66987c6",
   "metadata": {},
   "outputs": [
    {
     "data": {
      "text/plain": [
       "{'train': SplitInfo(name='train', num_bytes=31296607, num_examples=60000, shard_lengths=None, dataset_name='fashion_mnist'),\n",
       " 'test': SplitInfo(name='test', num_bytes=5233810, num_examples=10000, shard_lengths=None, dataset_name='fashion_mnist')}"
      ]
     },
     "execution_count": null,
     "metadata": {},
     "output_type": "execute_result"
    }
   ],
   "source": [
    "ds_builder.info.splits"
   ]
  },
  {
   "cell_type": "code",
   "execution_count": null,
   "id": "e749dd54-4848-4f03-af5f-3a884018aa74",
   "metadata": {},
   "outputs": [
    {
     "data": {
      "text/plain": [
       "'https://github.com/zalandoresearch/fashion-mnist'"
      ]
     },
     "execution_count": null,
     "metadata": {},
     "output_type": "execute_result"
    }
   ],
   "source": [
    "ds_builder.info.homepage"
   ]
  },
  {
   "cell_type": "markdown",
   "id": "5952bed6-37ed-43f7-bb01-f6f9058a86ce",
   "metadata": {},
   "source": [
    "The load_dataset function can be used to load the whole dataset, which can then be sub divided if necessary"
   ]
  },
  {
   "cell_type": "code",
   "execution_count": null,
   "id": "4e82e83a-d983-4cd8-87b3-e359d2b2b03d",
   "metadata": {},
   "outputs": [
    {
     "name": "stderr",
     "output_type": "stream",
     "text": [
      "100%|████████████████████████████████████████████| 2/2 [00:00<00:00, 332.45it/s]\n"
     ]
    }
   ],
   "source": [
    "ds_loader = load_dataset(name)"
   ]
  },
  {
   "cell_type": "markdown",
   "id": "405f1be1-3595-4479-9146-22f8f6bd8c56",
   "metadata": {},
   "source": [
    "The different splits can then be assigned separately"
   ]
  },
  {
   "cell_type": "code",
   "execution_count": null,
   "id": "1d5b4130-d3ac-4d2d-bc67-09ff9031850a",
   "metadata": {},
   "outputs": [],
   "source": [
    "train_ds, test_ds = ds_loader['train'], ds_loader['test']"
   ]
  },
  {
   "cell_type": "markdown",
   "id": "cf76c2e3-40e4-48d7-90c5-3acd3a857c72",
   "metadata": {},
   "source": [
    "Retireving individual items can be done using the dataset features, in this case the image and label"
   ]
  },
  {
   "cell_type": "code",
   "execution_count": null,
   "id": "906c4e2b-ecc1-45f7-a4af-22306ed54174",
   "metadata": {},
   "outputs": [
    {
     "data": {
      "text/plain": [
       "{'image': <PIL.PngImagePlugin.PngImageFile image mode=L size=28x28>,\n",
       " 'label': 9}"
      ]
     },
     "execution_count": null,
     "metadata": {},
     "output_type": "execute_result"
    }
   ],
   "source": [
    "train_ds[0]"
   ]
  },
  {
   "cell_type": "code",
   "execution_count": null,
   "id": "820d98b3-19bf-42cd-be59-703c0ddc6568",
   "metadata": {},
   "outputs": [
    {
     "data": {
      "image/jpeg": "[encoded data removed]",
      "image/png": "[encoded data removed]",
      "text/plain": [
       "<PIL.PngImagePlugin.PngImageFile image mode=L size=28x28>"
      ]
     },
     "execution_count": null,
     "metadata": {},
     "output_type": "execute_result"
    }
   ],
   "source": [
    "train_ds[0]['image']"
   ]
  },
  {
   "cell_type": "markdown",
   "id": "2b8bd3d4-64c4-4f8b-93ce-0e37532b9f03",
   "metadata": {},
   "source": [
    "This can be simplified by assigning the features (keys) to x and y"
   ]
  },
  {
   "cell_type": "code",
   "execution_count": null,
   "id": "dbc118f3-03a7-4e38-9456-fc4587fa688c",
   "metadata": {},
   "outputs": [
    {
     "data": {
      "text/plain": [
       "('image', 'label')"
      ]
     },
     "execution_count": null,
     "metadata": {},
     "output_type": "execute_result"
    }
   ],
   "source": [
    "x, y = ds_builder.info.features\n",
    "x, y"
   ]
  },
  {
   "cell_type": "code",
   "execution_count": null,
   "id": "b656110d-95a1-4677-8dde-156c4e761c5e",
   "metadata": {},
   "outputs": [
    {
     "data": {
      "image/jpeg": "[encoded data removed]",
      "image/png": "[encoded data removed]",
      "text/plain": [
       "<PIL.PngImagePlugin.PngImageFile image mode=L size=28x28>"
      ]
     },
     "execution_count": null,
     "metadata": {},
     "output_type": "execute_result"
    }
   ],
   "source": [
    "img = train_ds[0][x]\n",
    "img"
   ]
  },
  {
   "cell_type": "code",
   "execution_count": null,
   "id": "52db6f4b-dd70-4868-b774-dd5da601b88d",
   "metadata": {},
   "outputs": [],
   "source": [
    "#|export\n",
    "def inplace(f):\n",
    "    \"\"\" This function allows a function that does not return anything directly (ie one that modifies things\n",
    "    without a return statenent) to then be used in an application that required a return.  So this function\n",
    "    is a wrapper of another function that simply executes the function and then returns the modified input\n",
    "    \"\"\"\n",
    "    def _f(b):\n",
    "        f(b)\n",
    "        return b\n",
    "    return _f"
   ]
  },
  {
   "cell_type": "markdown",
   "id": "a37b6ef5-dbfc-4b6b-b7a9-8acf4a41c8d8",
   "metadata": {},
   "source": [
    "Test that the inline function does as it should"
   ]
  },
  {
   "cell_type": "code",
   "execution_count": null,
   "id": "7808eca3-4e33-48e4-84b4-20255ce9ca56",
   "metadata": {},
   "outputs": [],
   "source": [
    "@inplace\n",
    "def torch_cos(x):\n",
    "    # Modify in place x to become cos(x)\n",
    "    torch.cos_(x)"
   ]
  },
  {
   "cell_type": "code",
   "execution_count": null,
   "id": "f3904bb4-8631-49a7-93e1-fe3076c9c061",
   "metadata": {},
   "outputs": [
    {
     "data": {
      "text/plain": [
       "True"
      ]
     },
     "execution_count": null,
     "metadata": {},
     "output_type": "execute_result"
    }
   ],
   "source": [
    "angle = torch.tensor(torch.pi/8)\n",
    "y = torch_cos(angle)\n",
    "equals(y, torch.cos(torch.tensor(torch.pi/8)))"
   ]
  },
  {
   "cell_type": "markdown",
   "id": "3e908841-a566-4746-b916-574605340c4b",
   "metadata": {},
   "source": [
    "The HuggingFace dataset provides datasets that return a dictionary of features.  It also provides the capability to apply transforms to the dataset items using the with_transforms method.  In the case of the Fashion Mnist dataset it is convenient to be able to return the inputs and targets as flattened tensors.  This can be done using a function to convert items to tensors and then flatten them, followed by a collation function that will build upon the default_collate function from Pytorch"
   ]
  },
  {
   "cell_type": "code",
   "execution_count": null,
   "id": "3af241f9-0f60-41ba-8f94-becd8c81b338",
   "metadata": {},
   "outputs": [],
   "source": [
    "@inplace\n",
    "def transformi(b): b[x] = [torch.flatten(TF.to_tensor(o)) for o in b[x]]"
   ]
  },
  {
   "cell_type": "markdown",
   "id": "f042ac76-6cf7-4f02-8ac6-1d4eae582f7d",
   "metadata": {},
   "source": [
    "To illustrate how default_collate will deal with a dict see the following"
   ]
  },
  {
   "cell_type": "code",
   "execution_count": null,
   "id": "04c516dd-b882-4406-a9bf-f352a2f78b67",
   "metadata": {},
   "outputs": [
    {
     "data": {
      "text/plain": [
       "{'a': [tensor([1, 3])], 'b': [tensor([2, 4])]}"
      ]
     },
     "execution_count": null,
     "metadata": {},
     "output_type": "execute_result"
    }
   ],
   "source": [
    "batch = dict(a=[1],b=[2]), dict(a=[3],b=[4])\n",
    "default_collate(batch)"
   ]
  },
  {
   "cell_type": "code",
   "execution_count": null,
   "id": "4c2736fa-9af0-43e7-b907-62c3ef419f92",
   "metadata": {},
   "outputs": [],
   "source": [
    "# create a dataset that will apply the transformi function to the items it returns\n",
    "tsds = train_ds.with_transform(transformi)"
   ]
  },
  {
   "cell_type": "code",
   "execution_count": null,
   "id": "ddd0ec93-ec70-4b37-8ce0-b096dc069fce",
   "metadata": {},
   "outputs": [
    {
     "data": {
      "text/plain": [
       "{'image': <PIL.PngImagePlugin.PngImageFile image mode=L size=28x28>,\n",
       " 'label': 9}"
      ]
     },
     "execution_count": null,
     "metadata": {},
     "output_type": "execute_result"
    }
   ],
   "source": [
    "train_ds[0]"
   ]
  },
  {
   "cell_type": "code",
   "execution_count": null,
   "id": "8dcbc49b-078b-445d-993f-5ff06280bd2c",
   "metadata": {},
   "outputs": [
    {
     "data": {
      "text/plain": [
       "{'image': tensor([0.00, 0.00, 0.00, 0.00, 0.00, 0.00, 0.00, 0.00, 0.00, 0.00, 0.00, 0.00, 0.00, 0.00, 0.00, 0.00, 0.00, 0.00, 0.00, 0.00, 0.00, 0.00,\n",
       "         0.00, 0.00, 0.00, 0.00, 0.00, 0.00, 0.00, 0.00, 0.00, 0.00, 0.00, 0.00, 0.00, 0.00, 0.00, 0.00, 0.00, 0.00, 0.00, 0.00, 0.00, 0.00,\n",
       "         0.00, 0.00, 0.00, 0.00, 0.00, 0.00, 0.00, 0.00, 0.00, 0.00, 0.00, 0.00, 0.00, 0.00, 0.00, 0.00, 0.00, 0.00, 0.00, 0.00, 0.00, 0.00,\n",
       "         0.00, 0.00, 0.00, 0.00, 0.00, 0.00, 0.00, 0.00, 0.00, 0.00, 0.00, 0.00, 0.00, 0.00, 0.00, 0.00, 0.00, 0.00, 0.00, 0.00, 0.00, 0.00,\n",
       "         0.00, 0.00, 0.00, 0.00, 0.00, 0.00, 0.00, 0.00, 0.00, 0.00, 0.00, 0.05, 0.29, 0.00, 0.00, 0.00, 0.02, 0.00, 0.00, 0.00, 0.00, 0.00,\n",
       "         0.00, 0.00, 0.00, 0.00, 0.00, 0.00, 0.00, 0.00, 0.00, 0.00, 0.00, 0.00, 0.00, 0.00, 0.01, 0.00, 0.14, 0.53, 0.50, 0.24, 0.21, 0.00,\n",
       "         0.00, 0.00, 0.00, 0.01, 0.02, 0.00, 0.00, 0.01, 0.00, 0.00, 0.00, 0.00, 0.00, 0.00, 0.00, 0.00, 0.00, 0.00, 0.00, 0.00, 0.02, 0.00,\n",
       "         0.40, 0.80, 0.69, 0.53, 0.56, 0.48, 0.09, 0.00, 0.00, 0.00, 0.00, 0.05, 0.04, 0.00, 0.00, 0.00, 0.00, 0.00, 0.00, 0.00, 0.00, 0.00,\n",
       "         0.00, 0.00, 0.00, 0.00, 0.00, 0.00, 0.61, 0.93, 0.81, 0.70, 0.42, 0.61, 0.63, 0.43, 0.25, 0.09, 0.30, 0.51, 0.28, 0.06, 0.00, 0.00,\n",
       "         0.00, 0.00, 0.00, 0.00, 0.00, 0.00, 0.00, 0.00, 0.00, 0.00, 0.00, 0.27, 0.81, 0.87, 0.85, 0.85, 0.85, 0.64, 0.50, 0.47, 0.48, 0.57,\n",
       "         0.55, 0.35, 0.67, 0.26, 0.00, 0.00, 0.00, 0.00, 0.00, 0.00, 0.00, 0.00, 0.00, 0.00, 0.00, 0.00, 0.00, 0.78, 0.91, 0.91, 0.91, 0.90,\n",
       "         0.87, 0.87, 0.84, 0.84, 0.64, 0.50, 0.48, 0.77, 0.90, 0.00, 0.00, 0.00, 0.00, 0.00, 0.00, 0.00, 0.00, 0.00, 0.00, 0.00, 0.00, 0.00,\n",
       "         0.00, 0.72, 0.88, 0.85, 0.87, 0.89, 0.92, 0.89, 0.88, 0.87, 0.88, 0.87, 0.87, 0.96, 0.68, 0.00, 0.00, 0.00, 0.00, 0.00, 0.00, 0.00,\n",
       "         0.00, 0.00, 0.00, 0.00, 0.00, 0.00, 0.00, 0.76, 0.89, 0.85, 0.84, 0.78, 0.71, 0.83, 0.82, 0.83, 0.84, 0.87, 0.86, 0.95, 0.79, 0.00,\n",
       "         0.00, 0.00, 0.00, 0.00, 0.00, 0.00, 0.00, 0.00, 0.00, 0.00, 0.01, 0.00, 0.05, 0.86, 0.86, 0.83, 0.85, 0.75, 0.66, 0.89, 0.82, 0.85,\n",
       "         0.88, 0.83, 0.89, 0.77, 0.82, 0.20, 0.00, 0.00, 0.00, 0.00, 0.00, 0.00, 0.00, 0.00, 0.00, 0.00, 0.02, 0.00, 0.39, 0.96, 0.87, 0.86,\n",
       "         0.85, 0.80, 0.78, 0.87, 0.84, 0.84, 0.87, 0.86, 0.96, 0.47, 0.65, 0.22, 0.00, 0.00, 0.00, 0.00, 0.00, 0.00, 0.00, 0.00, 0.00, 0.02,\n",
       "         0.00, 0.00, 0.22, 0.93, 0.89, 0.90, 0.89, 0.94, 0.91, 0.84, 0.85, 0.87, 0.92, 0.85, 0.85, 0.82, 0.36, 0.00, 0.00, 0.00, 0.00, 0.02,\n",
       "         0.02, 0.03, 0.01, 0.00, 0.00, 0.00, 0.00, 0.00, 0.93, 0.89, 0.85, 0.87, 0.87, 0.86, 0.87, 0.87, 0.85, 0.87, 0.90, 0.84, 0.85, 1.00,\n",
       "         0.30, 0.00, 0.00, 0.01, 0.00, 0.00, 0.00, 0.00, 0.00, 0.00, 0.00, 0.24, 0.57, 0.80, 0.89, 0.81, 0.84, 0.87, 0.85, 0.82, 0.83, 0.85,\n",
       "         0.88, 0.87, 0.86, 0.84, 0.88, 0.96, 0.62, 0.00, 0.00, 0.00, 0.00, 0.00, 0.07, 0.17, 0.32, 0.42, 0.74, 0.89, 0.86, 0.87, 0.85, 0.89,\n",
       "         0.78, 0.80, 0.83, 0.90, 0.88, 0.92, 0.69, 0.74, 0.98, 0.97, 0.91, 0.93, 0.84, 0.00, 0.00, 0.22, 0.73, 0.82, 0.88, 0.87, 0.88, 0.82,\n",
       "         0.80, 0.84, 0.82, 0.82, 0.78, 0.62, 0.96, 0.76, 0.81, 0.87, 1.00, 1.00, 0.87, 0.92, 0.87, 0.83, 0.86, 0.91, 0.96, 0.00, 0.01, 0.79,\n",
       "         0.89, 0.88, 0.87, 0.83, 0.83, 0.84, 0.80, 0.80, 0.80, 0.86, 0.94, 0.31, 0.59, 1.00, 0.90, 0.87, 0.74, 0.60, 0.75, 0.82, 0.80, 0.82,\n",
       "         0.87, 0.89, 0.88, 0.00, 0.38, 0.91, 0.78, 0.82, 0.87, 0.90, 0.90, 0.92, 0.98, 0.86, 0.76, 0.84, 0.85, 0.95, 0.25, 0.29, 0.42, 0.46,\n",
       "         0.66, 0.86, 0.87, 0.84, 0.85, 0.87, 0.87, 0.88, 0.90, 0.11, 0.29, 0.80, 0.83, 0.80, 0.76, 0.80, 0.83, 0.88, 0.85, 0.73, 0.77, 0.81,\n",
       "         0.78, 0.84, 0.94, 0.76, 0.89, 0.96, 0.94, 0.87, 0.85, 0.83, 0.82, 0.87, 0.86, 0.87, 0.90, 0.26, 0.19, 0.80, 0.72, 0.76, 0.84, 0.77,\n",
       "         0.73, 0.75, 0.76, 0.75, 0.79, 0.84, 0.86, 0.87, 0.86, 0.93, 0.88, 0.85, 0.78, 0.81, 0.73, 0.71, 0.69, 0.67, 0.71, 0.80, 0.81, 0.45,\n",
       "         0.00, 0.48, 0.86, 0.76, 0.70, 0.67, 0.72, 0.77, 0.80, 0.82, 0.84, 0.81, 0.83, 0.82, 0.78, 0.77, 0.76, 0.75, 0.76, 0.75, 0.78, 0.75,\n",
       "         0.69, 0.61, 0.65, 0.69, 0.82, 0.36, 0.00, 0.00, 0.29, 0.74, 0.83, 0.75, 0.69, 0.67, 0.69, 0.71, 0.73, 0.74, 0.74, 0.74, 0.76, 0.78,\n",
       "         0.80, 0.82, 0.82, 0.82, 0.83, 0.74, 0.74, 0.76, 0.75, 0.85, 0.67, 0.00, 0.01, 0.00, 0.00, 0.00, 0.26, 0.78, 0.87, 0.93, 0.94, 0.95,\n",
       "         0.96, 0.95, 0.96, 0.87, 0.86, 0.76, 0.75, 0.70, 0.71, 0.71, 0.71, 0.69, 0.65, 0.66, 0.39, 0.23, 0.00, 0.00, 0.00, 0.00, 0.00, 0.00,\n",
       "         0.00, 0.00, 0.00, 0.16, 0.24, 0.17, 0.28, 0.16, 0.14, 0.00, 0.00, 0.00, 0.00, 0.00, 0.00, 0.00, 0.00, 0.00, 0.00, 0.00, 0.00, 0.00,\n",
       "         0.00, 0.00, 0.00, 0.00, 0.00, 0.00, 0.00, 0.00, 0.00, 0.00, 0.00, 0.00, 0.00, 0.00, 0.00, 0.00, 0.00, 0.00, 0.00, 0.00, 0.00, 0.00,\n",
       "         0.00, 0.00, 0.00, 0.00, 0.00, 0.00, 0.00, 0.00, 0.00, 0.00, 0.00, 0.00, 0.00, 0.00, 0.00, 0.00, 0.00, 0.00, 0.00, 0.00, 0.00, 0.00,\n",
       "         0.00, 0.00, 0.00, 0.00, 0.00, 0.00, 0.00, 0.00, 0.00, 0.00, 0.00, 0.00, 0.00, 0.00]),\n",
       " 'label': 9}"
      ]
     },
     "execution_count": null,
     "metadata": {},
     "output_type": "execute_result"
    }
   ],
   "source": [
    "tsds[0]"
   ]
  },
  {
   "cell_type": "markdown",
   "id": "bf4a14be-92d4-4afa-8bc3-a6526ac88bcc",
   "metadata": {},
   "source": [
    "The dictionary aspects of this are not needed and so the collate_dict function that follows extracts the individual items of the batch and returns then as a tuple of the input and output tensors"
   ]
  },
  {
   "cell_type": "code",
   "execution_count": null,
   "id": "be88c76f-9d51-46c0-82cd-4fae241745a8",
   "metadata": {},
   "outputs": [],
   "source": [
    "#|export\n",
    "def collate_dict(ds):\n",
    "    \"\"\" when a dataset is defined by a dictionary this will identify the features and split into inputs and outputs\n",
    "    as tensor arrays ready for input to a model\n",
    "    \"\"\"\n",
    "    get = itemgetter(*ds.features)\n",
    "    def _f(b):\n",
    "        \"\"\" return a tuple containing the values associated with each of the keys returned by the itemgetter \n",
    "        given that default_collate returns a dict with two keys and a stacked tensor for each batch\"\"\"\n",
    "        return get(default_collate(b))\n",
    "    return _f"
   ]
  },
  {
   "cell_type": "markdown",
   "id": "6d714f5e-4060-477e-aca1-fca995a0417a",
   "metadata": {},
   "source": [
    "Note that it is necessary initialise the collate_dict function supplied to the dataloader with the dataset.  This is necessary so that the embeded get function can identify the features to be loaded.  It would be nice if this could be avoided"
   ]
  },
  {
   "cell_type": "code",
   "execution_count": null,
   "id": "86d8e221-89f2-4345-9906-04826adce7e3",
   "metadata": {},
   "outputs": [],
   "source": [
    "train_dl = DataLoader(tsds, batch_size=4, shuffle=True, collate_fn=collate_dict(tsds))"
   ]
  },
  {
   "cell_type": "code",
   "execution_count": null,
   "id": "c73e3c87-5f93-4596-83c7-8018cedc352d",
   "metadata": {},
   "outputs": [],
   "source": [
    "xb, yb = next(iter(train_dl))"
   ]
  },
  {
   "cell_type": "code",
   "execution_count": null,
   "id": "417ca540-d212-4310-982c-723fc1e5af1a",
   "metadata": {},
   "outputs": [
    {
     "data": {
      "text/plain": [
       "(torch.Size([4, 784]), torch.Size([4]))"
      ]
     },
     "execution_count": null,
     "metadata": {},
     "output_type": "execute_result"
    }
   ],
   "source": [
    "xb.shape, yb.shape"
   ]
  },
  {
   "cell_type": "code",
   "execution_count": null,
   "id": "64ea670d-b179-4071-94dc-d9d47860deae",
   "metadata": {},
   "outputs": [],
   "source": [
    "def collate_dict2(batch):\n",
    "    pairs = default_collate(batch)\n",
    "    items = [values for values in pairs.values()]\n",
    "    return items"
   ]
  },
  {
   "cell_type": "code",
   "execution_count": null,
   "id": "58fa5f86-6275-4d6d-b938-6df17799cf3d",
   "metadata": {},
   "outputs": [],
   "source": [
    "train_dl2 = DataLoader(tsds, batch_size=4, shuffle=True, collate_fn=collate_dict2)"
   ]
  },
  {
   "cell_type": "code",
   "execution_count": null,
   "id": "26845b31-1b1b-444d-a92b-c4e9e5447203",
   "metadata": {},
   "outputs": [],
   "source": [
    "xb, yb = next(iter(train_dl2))"
   ]
  },
  {
   "cell_type": "code",
   "execution_count": null,
   "id": "f585ec3d-bb71-4a39-b4bb-22b495c3fd19",
   "metadata": {},
   "outputs": [
    {
     "data": {
      "text/plain": [
       "(torch.Size([4, 784]), torch.Size([4]))"
      ]
     },
     "execution_count": null,
     "metadata": {},
     "output_type": "execute_result"
    }
   ],
   "source": [
    "xb.shape, yb.shape"
   ]
  },
  {
   "cell_type": "markdown",
   "id": "6f313d4a-7b8a-4992-b8da-560aeb6eb367",
   "metadata": {},
   "source": [
    "### Add Basic DataLoader Helper Functions"
   ]
  },
  {
   "cell_type": "code",
   "execution_count": null,
   "id": "001a56f9-afc4-4e21-b96f-44a8711faafc",
   "metadata": {},
   "outputs": [],
   "source": [
    "#|export\n",
    "def get_dls(train_ds, # Training Dataset\n",
    "            valid_ds, # Validation Dataset\n",
    "            bs=64, # Batch size (int)\n",
    "            **kwargs):\n",
    "    \"\"\" Utility function to return train and validation dataloaders from two datasets\n",
    "    \"\"\"\n",
    "    train_dl = DataLoader(train_ds, batch_size=bs, shuffle=True, **kwargs)\n",
    "    valid_dl = DataLoader(valid_ds, batch_size=bs, shuffle=False, **kwargs)\n",
    "    return train_dl, valid_dl"
   ]
  },
  {
   "cell_type": "code",
   "execution_count": null,
   "id": "3dfea017-bb73-4caa-9e35-47835797a66d",
   "metadata": {},
   "outputs": [],
   "source": [
    "#|export\n",
    "class DataLoaders:\n",
    "    \"\"\" Convenience class to create and contain a collection of datasets\n",
    "    \"\"\"\n",
    "    \n",
    "    def __init__(self, *dls): self.train,self.valid = dls[:2]\n",
    "\n",
    "    @classmethod\n",
    "    def from_dd(cls, \n",
    "                dd, # dataset with splits identified by dictionary keys, such as Huggingface\n",
    "                batch_size: int=64, # Batch size (int)\n",
    "                **kwargs):\n",
    "        \"\"\"Create dataloaders based upon dictionary based datasets (such as HuggingFace).  This is \n",
    "        simply a shortcut to avoid creating the dataloaders individually.  Returns a dataloader\n",
    "        for each the train and validation splits.  In future could be adapted to cope with more splits\n",
    "        \"\"\"\n",
    "        f = collate_dict(dd['train'])\n",
    "        return cls(*get_dls(*dd.values(), bs=batch_size, collate_fn=f, **kwargs))"
   ]
  },
  {
   "cell_type": "code",
   "execution_count": null,
   "id": "449c250e-cbe5-4ef2-8cc7-ade3bb77c9da",
   "metadata": {},
   "outputs": [],
   "source": [
    "#| hide\n",
    "import nbdev; nbdev.nbdev_export()"
   ]
  },
  {
   "cell_type": "code",
   "execution_count": null,
   "id": "fa5703e2-3bbc-486d-a01c-53d5d9143109",
   "metadata": {},
   "outputs": [],
   "source": []
  },
  {
   "cell_type": "code",
   "execution_count": null,
   "id": "daa4d6a6-9520-410e-8e48-3071f50e0bc4",
   "metadata": {},
   "outputs": [],
   "source": []
  },
  {
   "cell_type": "code",
   "execution_count": null,
   "id": "965d169c-35d0-4ddb-b811-3b39da1a1971",
   "metadata": {},
   "outputs": [],
   "source": []
  }
 ],
 "metadata": {
  "kernelspec": {
   "display_name": "Python 3 (ipykernel)",
   "language": "python",
   "name": "python3"
  },
  "language_info": {
   "codemirror_mode": {
    "name": "ipython",
    "version": 3
   },
   "file_extension": ".py",
   "mimetype": "text/x-python",
   "name": "python",
   "nbconvert_exporter": "python",
   "pygments_lexer": "ipython3",
   "version": "3.11.4"
  }
 },
 "nbformat": 4,
 "nbformat_minor": 5
}
