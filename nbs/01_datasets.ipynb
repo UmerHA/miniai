{
 "cells": [
  {
   "cell_type": "markdown",
   "id": "27f884a4-823e-4a63-917c-999356822329",
   "metadata": {},
   "source": [
    "# Datasets\n",
    "\n",
    "Contains functions and classes related to datasets and dataloaders"
   ]
  },
  {
   "cell_type": "code",
   "execution_count": null,
   "id": "af75f6e7-e27e-4bd0-b432-850ba0a5536c",
   "metadata": {},
   "outputs": [],
   "source": [
    "#| default_exp datasets"
   ]
  },
  {
   "cell_type": "code",
   "execution_count": null,
   "id": "cfba0dbd-1625-4a07-8e35-d99e5d9ea489",
   "metadata": {},
   "outputs": [],
   "source": [
    "#|export\n",
    "from __future__ import annotations\n",
    "import math,numpy as np,matplotlib.pyplot as plt\n",
    "from operator import itemgetter\n",
    "from itertools import zip_longest\n",
    "import fastcore.all as fc\n",
    "\n",
    "from torch.utils.data import default_collate"
   ]
  },
  {
   "cell_type": "code",
   "execution_count": null,
   "id": "4f5de4e4-10b7-4d4a-86c5-4fca853fcc77",
   "metadata": {},
   "outputs": [],
   "source": [
    "import logging,pickle,gzip,os,time,shutil,torch,matplotlib as mpl\n",
    "from pathlib import Path\n",
    "import torch\n",
    "from torch import tensor,nn,optim\n",
    "from torch.utils.data import DataLoader\n",
    "import torch.nn.functional as F\n",
    "from datasets import load_dataset,load_dataset_builder\n",
    "\n",
    "import torchvision.transforms.functional as TF\n",
    "from fastcore.test import test_close, equals"
   ]
  },
  {
   "cell_type": "code",
   "execution_count": null,
   "id": "89c524ef-0892-432f-9340-8915c25178fc",
   "metadata": {},
   "outputs": [],
   "source": [
    "torch.set_printoptions(precision=2, linewidth=140, sci_mode=False)\n",
    "torch.manual_seed(1)\n",
    "mpl.rcParams['image.cmap'] = 'gray'"
   ]
  },
  {
   "cell_type": "code",
   "execution_count": null,
   "id": "9ac04221-ddc4-4dbb-aa7b-3d0f6217edb0",
   "metadata": {},
   "outputs": [],
   "source": [
    "logging.disable(logging.WARNING)"
   ]
  },
  {
   "cell_type": "markdown",
   "id": "384a5873-f75f-47d7-836c-3b4accfa2458",
   "metadata": {},
   "source": [
    "The dataset management will be developed and demonstrated using databases from Huggingface, but can be readily adapted to work with other datasets.  \n",
    "\n",
    "## Hugging Face Datasets\n",
    "\n",
    "Note that a list of the available datasets can be found on the Hugging Face hub: \n",
    "\n",
    "[Hugging Face Hub](https://huggingface.co/datasets)\n",
    "\n",
    "Hugging Face datasets have a dictionary based structure\n"
   ]
  },
  {
   "cell_type": "code",
   "execution_count": null,
   "id": "6132300a-ca38-4d59-9284-b68848f4e8d8",
   "metadata": {},
   "outputs": [
    {
     "name": "stdout",
     "output_type": "stream",
     "text": [
      "Fashion-MNIST is a dataset of Zalando's article images—consisting of a training set of\n",
      "60,000 examples and a test set of 10,000 examples. Each example is a 28x28 grayscale image,\n",
      "associated with a label from 10 classes. We intend Fashion-MNIST to serve as a direct drop-in\n",
      "replacement for the original MNIST dataset for benchmarking machine learning algorithms.\n",
      "It shares the same image size and structure of training and testing splits.\n",
      "\n"
     ]
    }
   ],
   "source": [
    "name = \"fashion_mnist\"\n",
    "ds_builder = load_dataset_builder(name)\n",
    "print(ds_builder.info.description)"
   ]
  },
  {
   "cell_type": "markdown",
   "id": "26b012a4-4c3f-464b-a844-21fdb4bbd6f1",
   "metadata": {},
   "source": [
    "The dataset builder has a number of useful properties that can help better understand a dataset.  These are mostly sub properties the info attribute and include:\n",
    "- features\n",
    "- splits\n",
    "- homepage\n",
    "\n",
    "And lots of other useful things.\n",
    "\n",
    "Dataset builder allows obtaining details about he dataset without actually downloading it.  Accessing the dataset then uses the load_dataet mehod"
   ]
  },
  {
   "cell_type": "code",
   "execution_count": null,
   "id": "6adf1c2b-dcfa-492f-85dc-790d4d1a6687",
   "metadata": {},
   "outputs": [
    {
     "data": {
      "text/plain": [
       "{'image': Image(decode=True, id=None),\n",
       " 'label': ClassLabel(names=['T - shirt / top', 'Trouser', 'Pullover', 'Dress', 'Coat', 'Sandal', 'Shirt', 'Sneaker', 'Bag', 'Ankle boot'], id=None)}"
      ]
     },
     "execution_count": null,
     "metadata": {},
     "output_type": "execute_result"
    }
   ],
   "source": [
    "ds_builder.info.features"
   ]
  },
  {
   "cell_type": "code",
   "execution_count": null,
   "id": "2e7ab0a2-44cd-42a6-9550-0bc2a66987c6",
   "metadata": {},
   "outputs": [
    {
     "data": {
      "text/plain": [
       "{'train': SplitInfo(name='train', num_bytes=31296655, num_examples=60000, shard_lengths=None, dataset_name=None),\n",
       " 'test': SplitInfo(name='test', num_bytes=5233818, num_examples=10000, shard_lengths=None, dataset_name=None)}"
      ]
     },
     "execution_count": null,
     "metadata": {},
     "output_type": "execute_result"
    }
   ],
   "source": [
    "ds_builder.info.splits"
   ]
  },
  {
   "cell_type": "code",
   "execution_count": null,
   "id": "e749dd54-4848-4f03-af5f-3a884018aa74",
   "metadata": {},
   "outputs": [
    {
     "data": {
      "text/plain": [
       "'https://github.com/zalandoresearch/fashion-mnist'"
      ]
     },
     "execution_count": null,
     "metadata": {},
     "output_type": "execute_result"
    }
   ],
   "source": [
    "ds_builder.info.homepage"
   ]
  },
  {
   "cell_type": "markdown",
   "id": "5952bed6-37ed-43f7-bb01-f6f9058a86ce",
   "metadata": {},
   "source": [
    "The load_dataset function can be used to load the whole dataset, which can then be sub divided if necessary"
   ]
  },
  {
   "cell_type": "code",
   "execution_count": null,
   "id": "4e82e83a-d983-4cd8-87b3-e359d2b2b03d",
   "metadata": {},
   "outputs": [
    {
     "name": "stdout",
     "output_type": "stream",
     "text": [
      "Downloading and preparing dataset fashion_mnist/fashion_mnist to /Users/johnrichmond/.cache/huggingface/datasets/fashion_mnist/fashion_mnist/1.0.0/0a671f063342996f19779d38c0ab4abef9c64f757b35af8134b331c294d7ba48...\n"
     ]
    },
    {
     "name": "stderr",
     "output_type": "stream",
     "text": [
      "Downloading data files: 100%|███████████████████████████████████████████████████████████████| 4/4 [00:00<00:00, 500.63it/s]\n",
      "Extracting data files: 100%|████████████████████████████████████████████████████████████████| 4/4 [00:00<00:00, 380.82it/s]\n",
      "                                                                                                                           \r"
     ]
    },
    {
     "name": "stdout",
     "output_type": "stream",
     "text": [
      "Dataset fashion_mnist downloaded and prepared to /Users/johnrichmond/.cache/huggingface/datasets/fashion_mnist/fashion_mnist/1.0.0/0a671f063342996f19779d38c0ab4abef9c64f757b35af8134b331c294d7ba48. Subsequent calls will reuse this data.\n"
     ]
    },
    {
     "name": "stderr",
     "output_type": "stream",
     "text": [
      "100%|███████████████████████████████████████████████████████████████████████████████████████| 2/2 [00:00<00:00, 105.08it/s]\n"
     ]
    }
   ],
   "source": [
    "ds_loader = load_dataset(name)"
   ]
  },
  {
   "cell_type": "markdown",
   "id": "405f1be1-3595-4479-9146-22f8f6bd8c56",
   "metadata": {},
   "source": [
    "The different splits can then be assigned separately"
   ]
  },
  {
   "cell_type": "code",
   "execution_count": null,
   "id": "1d5b4130-d3ac-4d2d-bc67-09ff9031850a",
   "metadata": {},
   "outputs": [],
   "source": [
    "train_ds, test_ds = ds_loader['train'], ds_loader['test']"
   ]
  },
  {
   "cell_type": "markdown",
   "id": "cf76c2e3-40e4-48d7-90c5-3acd3a857c72",
   "metadata": {},
   "source": [
    "Retireving individual items can be done using the dataset features, in this case the image and label"
   ]
  },
  {
   "cell_type": "code",
   "execution_count": null,
   "id": "906c4e2b-ecc1-45f7-a4af-22306ed54174",
   "metadata": {},
   "outputs": [
    {
     "data": {
      "text/plain": [
       "{'image': <PIL.PngImagePlugin.PngImageFile image mode=L size=28x28>,\n",
       " 'label': 9}"
      ]
     },
     "execution_count": null,
     "metadata": {},
     "output_type": "execute_result"
    }
   ],
   "source": [
    "train_ds[0]"
   ]
  },
  {
   "cell_type": "code",
   "execution_count": null,
   "id": "820d98b3-19bf-42cd-be59-703c0ddc6568",
   "metadata": {},
   "outputs": [
    {
     "data": {
      "image/jpeg": "[encoded data removed]",
      "image/png": "[encoded data removed]",
      "text/plain": [
       "<PIL.PngImagePlugin.PngImageFile image mode=L size=28x28>"
      ]
     },
     "execution_count": null,
     "metadata": {},
     "output_type": "execute_result"
    }
   ],
   "source": [
    "train_ds[0]['image']"
   ]
  },
  {
   "cell_type": "markdown",
   "id": "2b8bd3d4-64c4-4f8b-93ce-0e37532b9f03",
   "metadata": {},
   "source": [
    "This can be simplified by assigning the features (keys) to x and y"
   ]
  },
  {
   "cell_type": "code",
   "execution_count": null,
   "id": "dbc118f3-03a7-4e38-9456-fc4587fa688c",
   "metadata": {},
   "outputs": [
    {
     "data": {
      "text/plain": [
       "('image', 'label')"
      ]
     },
     "execution_count": null,
     "metadata": {},
     "output_type": "execute_result"
    }
   ],
   "source": [
    "x, y = ds_builder.info.features\n",
    "x, y"
   ]
  },
  {
   "cell_type": "code",
   "execution_count": null,
   "id": "b656110d-95a1-4677-8dde-156c4e761c5e",
   "metadata": {},
   "outputs": [
    {
     "data": {
      "image/jpeg": "[encoded data removed]",
      "image/png": "[encoded data removed]",
      "text/plain": [
       "<PIL.PngImagePlugin.PngImageFile image mode=L size=28x28>"
      ]
     },
     "execution_count": null,
     "metadata": {},
     "output_type": "execute_result"
    }
   ],
   "source": [
    "img = train_ds[0][x]\n",
    "img"
   ]
  },
  {
   "cell_type": "code",
   "execution_count": null,
   "id": "52db6f4b-dd70-4868-b774-dd5da601b88d",
   "metadata": {},
   "outputs": [],
   "source": [
    "#|export\n",
    "def inplace(f):\n",
    "    \"\"\" This function allows a function that does not return anything directly (ie one that modifies things\n",
    "    without a return statenent) to then be used in an application that required a return.  So this function\n",
    "    is a wrapper of another function that simply executes the function and then returns the modified input\n",
    "    \"\"\"\n",
    "    def _f(b):\n",
    "        f(b)\n",
    "        return b\n",
    "    return _f"
   ]
  },
  {
   "cell_type": "markdown",
   "id": "a37b6ef5-dbfc-4b6b-b7a9-8acf4a41c8d8",
   "metadata": {},
   "source": [
    "Test that the inline function does as it should"
   ]
  },
  {
   "cell_type": "code",
   "execution_count": null,
   "id": "7808eca3-4e33-48e4-84b4-20255ce9ca56",
   "metadata": {},
   "outputs": [],
   "source": [
    "@inplace\n",
    "def torch_cos(x):\n",
    "    # Modify in place x to become cos(x)\n",
    "    torch.cos_(x)"
   ]
  },
  {
   "cell_type": "code",
   "execution_count": null,
   "id": "f3904bb4-8631-49a7-93e1-fe3076c9c061",
   "metadata": {},
   "outputs": [
    {
     "data": {
      "text/plain": [
       "True"
      ]
     },
     "execution_count": null,
     "metadata": {},
     "output_type": "execute_result"
    }
   ],
   "source": [
    "angle = torch.tensor(torch.pi/8)\n",
    "y = torch_cos(angle)\n",
    "equals(y, torch.cos(torch.tensor(torch.pi/8)))"
   ]
  },
  {
   "cell_type": "code",
   "execution_count": null,
   "id": "be88c76f-9d51-46c0-82cd-4fae241745a8",
   "metadata": {},
   "outputs": [],
   "source": [
    "#|export\n",
    "def collate_dict(ds):\n",
    "    \"\"\" when a dataset is defined by a dictionary this will identify the features and split into inputs and outputs\n",
    "    as tensor arrays ready for input to a model\n",
    "    \"\"\"\n",
    "    get = itemgetter(*ds.features)\n",
    "    def _f(b):\n",
    "        \"\"\" return a tuple containing the values associated with each of the keys returned by the itemgetter \n",
    "        given that default_collate return a dict with two keys and a stacked tensor for each \"\"\"\n",
    "        return get(default_collate(b))\n",
    "    return _f"
   ]
  },
  {
   "cell_type": "code",
   "execution_count": null,
   "id": "449c250e-cbe5-4ef2-8cc7-ade3bb77c9da",
   "metadata": {},
   "outputs": [],
   "source": [
    "#| hide\n",
    "import nbdev; nbdev.nbdev_export()"
   ]
  },
  {
   "cell_type": "code",
   "execution_count": null,
   "id": "05867d8c-9d51-4f34-84a5-03e77c99e033",
   "metadata": {},
   "outputs": [],
   "source": []
  }
 ],
 "metadata": {
  "kernelspec": {
   "display_name": "python3",
   "language": "python",
   "name": "python3"
  }
 },
 "nbformat": 4,
 "nbformat_minor": 5
}
